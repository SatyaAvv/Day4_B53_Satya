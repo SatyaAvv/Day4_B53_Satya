{
 "cells": [
  {
   "cell_type": "code",
   "execution_count": 141,
   "id": "b27b745b",
   "metadata": {},
   "outputs": [],
   "source": [
    "roomates = ['satya','mukesh','suresh','satish','sai','nagu']"
   ]
  },
  {
   "cell_type": "code",
   "execution_count": 142,
   "id": "377126da",
   "metadata": {},
   "outputs": [
    {
     "name": "stdout",
     "output_type": "stream",
     "text": [
      "['satya', 'mukesh', 'suresh', 'satish', 'sai', 'nagu']\n"
     ]
    }
   ],
   "source": [
    "print(roomates)"
   ]
  },
  {
   "cell_type": "code",
   "execution_count": 143,
   "id": "511bb73b",
   "metadata": {},
   "outputs": [
    {
     "data": {
      "text/plain": [
       "list"
      ]
     },
     "execution_count": 143,
     "metadata": {},
     "output_type": "execute_result"
    }
   ],
   "source": [
    "type(roomates)"
   ]
  },
  {
   "cell_type": "code",
   "execution_count": 144,
   "id": "f3d2d15f",
   "metadata": {},
   "outputs": [],
   "source": [
    "name = \"satya\""
   ]
  },
  {
   "cell_type": "code",
   "execution_count": 145,
   "id": "5aa71d07",
   "metadata": {},
   "outputs": [
    {
     "data": {
      "text/plain": [
       "str"
      ]
     },
     "execution_count": 145,
     "metadata": {},
     "output_type": "execute_result"
    }
   ],
   "source": [
    "type(name)"
   ]
  },
  {
   "cell_type": "code",
   "execution_count": 146,
   "id": "5149c901",
   "metadata": {},
   "outputs": [],
   "source": [
    "# index ranges"
   ]
  },
  {
   "cell_type": "code",
   "execution_count": 147,
   "id": "5d09aeeb",
   "metadata": {},
   "outputs": [
    {
     "name": "stdout",
     "output_type": "stream",
     "text": [
      "suresh\n"
     ]
    }
   ],
   "source": [
    "print (roomates[2]) "
   ]
  },
  {
   "cell_type": "code",
   "execution_count": 148,
   "id": "8f6a3459",
   "metadata": {},
   "outputs": [
    {
     "name": "stdout",
     "output_type": "stream",
     "text": [
      "satya\n"
     ]
    }
   ],
   "source": [
    "print (roomates[0])"
   ]
  },
  {
   "cell_type": "code",
   "execution_count": 149,
   "id": "42936ec6",
   "metadata": {},
   "outputs": [
    {
     "ename": "IndexError",
     "evalue": "list index out of range",
     "output_type": "error",
     "traceback": [
      "\u001b[1;31m---------------------------------------------------------------------------\u001b[0m",
      "\u001b[1;31mIndexError\u001b[0m                                Traceback (most recent call last)",
      "\u001b[1;32m<ipython-input-149-529067ea5325>\u001b[0m in \u001b[0;36m<module>\u001b[1;34m\u001b[0m\n\u001b[1;32m----> 1\u001b[1;33m \u001b[0mprint\u001b[0m \u001b[1;33m(\u001b[0m\u001b[0mroomates\u001b[0m\u001b[1;33m[\u001b[0m\u001b[1;36m6\u001b[0m\u001b[1;33m]\u001b[0m\u001b[1;33m)\u001b[0m\u001b[1;33m\u001b[0m\u001b[1;33m\u001b[0m\u001b[0m\n\u001b[0m",
      "\u001b[1;31mIndexError\u001b[0m: list index out of range"
     ]
    }
   ],
   "source": [
    "print (roomates[6])"
   ]
  },
  {
   "cell_type": "code",
   "execution_count": 150,
   "id": "087f9092",
   "metadata": {},
   "outputs": [
    {
     "name": "stdout",
     "output_type": "stream",
     "text": [
      "nagu\n"
     ]
    }
   ],
   "source": [
    "print (roomates[5])"
   ]
  },
  {
   "cell_type": "code",
   "execution_count": 151,
   "id": "c04bac0a",
   "metadata": {},
   "outputs": [],
   "source": [
    "#append . new element will be added to the last"
   ]
  },
  {
   "cell_type": "code",
   "execution_count": 152,
   "id": "140008ed",
   "metadata": {},
   "outputs": [
    {
     "name": "stdout",
     "output_type": "stream",
     "text": [
      "['satya', 'mukesh', 'suresh', 'satish', 'sai', 'nagu']\n"
     ]
    }
   ],
   "source": [
    "print(roomates)"
   ]
  },
  {
   "cell_type": "code",
   "execution_count": 153,
   "id": "49397f79",
   "metadata": {},
   "outputs": [],
   "source": [
    "roomates.append('venky')"
   ]
  },
  {
   "cell_type": "code",
   "execution_count": 154,
   "id": "71f792dc",
   "metadata": {},
   "outputs": [
    {
     "name": "stdout",
     "output_type": "stream",
     "text": [
      "['satya', 'mukesh', 'suresh', 'satish', 'sai', 'nagu', 'venky']\n"
     ]
    }
   ],
   "source": [
    "print(roomates)"
   ]
  },
  {
   "cell_type": "code",
   "execution_count": 155,
   "id": "4244408c",
   "metadata": {},
   "outputs": [],
   "source": [
    "roomates.append('mahesh')"
   ]
  },
  {
   "cell_type": "code",
   "execution_count": 156,
   "id": "94e92598",
   "metadata": {},
   "outputs": [
    {
     "name": "stdout",
     "output_type": "stream",
     "text": [
      "['satya', 'mukesh', 'suresh', 'satish', 'sai', 'nagu', 'venky', 'mahesh']\n"
     ]
    }
   ],
   "source": [
    "print(roomates)"
   ]
  },
  {
   "cell_type": "code",
   "execution_count": 157,
   "id": "0c1e7124",
   "metadata": {},
   "outputs": [],
   "source": [
    "#insert . it will add where we want"
   ]
  },
  {
   "cell_type": "code",
   "execution_count": 158,
   "id": "2bf69abd",
   "metadata": {},
   "outputs": [],
   "source": [
    "roomates.insert(2,'srinu')"
   ]
  },
  {
   "cell_type": "code",
   "execution_count": 159,
   "id": "11d5844d",
   "metadata": {},
   "outputs": [
    {
     "name": "stdout",
     "output_type": "stream",
     "text": [
      "['satya', 'mukesh', 'srinu', 'suresh', 'satish', 'sai', 'nagu', 'venky', 'mahesh']\n"
     ]
    }
   ],
   "source": [
    "print(roomates)"
   ]
  },
  {
   "cell_type": "code",
   "execution_count": 160,
   "id": "e7045c1a",
   "metadata": {},
   "outputs": [
    {
     "name": "stdout",
     "output_type": "stream",
     "text": [
      "srinu\n"
     ]
    }
   ],
   "source": [
    "print(roomates[2])"
   ]
  },
  {
   "cell_type": "code",
   "execution_count": 161,
   "id": "3b98b31f",
   "metadata": {},
   "outputs": [
    {
     "name": "stdout",
     "output_type": "stream",
     "text": [
      "venky\n"
     ]
    }
   ],
   "source": [
    "print(roomates[7])"
   ]
  },
  {
   "cell_type": "code",
   "execution_count": 162,
   "id": "bc994eaa",
   "metadata": {},
   "outputs": [],
   "source": [
    "# modification mukesh name to naidu"
   ]
  },
  {
   "cell_type": "code",
   "execution_count": 163,
   "id": "988e2e27",
   "metadata": {},
   "outputs": [],
   "source": [
    "roomates[1]='naidu'"
   ]
  },
  {
   "cell_type": "code",
   "execution_count": 164,
   "id": "eda7f0fa",
   "metadata": {},
   "outputs": [
    {
     "name": "stdout",
     "output_type": "stream",
     "text": [
      "['satya', 'naidu', 'srinu', 'suresh', 'satish', 'sai', 'nagu', 'venky', 'mahesh']\n"
     ]
    }
   ],
   "source": [
    "print(roomates)"
   ]
  },
  {
   "cell_type": "code",
   "execution_count": 165,
   "id": "68fe9d0b",
   "metadata": {},
   "outputs": [
    {
     "name": "stdout",
     "output_type": "stream",
     "text": [
      "naidu\n"
     ]
    }
   ],
   "source": [
    "print(roomates[1])"
   ]
  },
  {
   "cell_type": "code",
   "execution_count": 166,
   "id": "f3c5278c",
   "metadata": {},
   "outputs": [
    {
     "name": "stdout",
     "output_type": "stream",
     "text": [
      "sai\n"
     ]
    }
   ],
   "source": [
    "print(roomates[5])"
   ]
  },
  {
   "cell_type": "code",
   "execution_count": 167,
   "id": "36502eee",
   "metadata": {},
   "outputs": [],
   "source": [
    "del roomates[4]"
   ]
  },
  {
   "cell_type": "code",
   "execution_count": 168,
   "id": "14876159",
   "metadata": {},
   "outputs": [
    {
     "name": "stdout",
     "output_type": "stream",
     "text": [
      "['satya', 'naidu', 'srinu', 'suresh', 'sai', 'nagu', 'venky', 'mahesh']\n"
     ]
    }
   ],
   "source": [
    "print(roomates)"
   ]
  },
  {
   "cell_type": "code",
   "execution_count": 169,
   "id": "f74bebd2",
   "metadata": {},
   "outputs": [],
   "source": [
    "del roomates[6]"
   ]
  },
  {
   "cell_type": "code",
   "execution_count": 170,
   "id": "75258df7",
   "metadata": {},
   "outputs": [
    {
     "name": "stdout",
     "output_type": "stream",
     "text": [
      "['satya', 'naidu', 'srinu', 'suresh', 'sai', 'nagu', 'mahesh']\n"
     ]
    }
   ],
   "source": [
    "print(roomates)"
   ]
  },
  {
   "cell_type": "code",
   "execution_count": 171,
   "id": "bb1472cc",
   "metadata": {},
   "outputs": [],
   "source": [
    "#pop() --> temp del"
   ]
  },
  {
   "cell_type": "code",
   "execution_count": 172,
   "id": "ff739603",
   "metadata": {},
   "outputs": [],
   "source": [
    "x=roomates.pop()"
   ]
  },
  {
   "cell_type": "code",
   "execution_count": 173,
   "id": "38db2c8b",
   "metadata": {},
   "outputs": [
    {
     "name": "stdout",
     "output_type": "stream",
     "text": [
      "['satya', 'naidu', 'srinu', 'suresh', 'sai', 'nagu']\n"
     ]
    }
   ],
   "source": [
    "print(roomates)"
   ]
  },
  {
   "cell_type": "code",
   "execution_count": 174,
   "id": "e7b57b51",
   "metadata": {},
   "outputs": [
    {
     "name": "stdout",
     "output_type": "stream",
     "text": [
      "mahesh\n"
     ]
    }
   ],
   "source": [
    "print(x)"
   ]
  },
  {
   "cell_type": "code",
   "execution_count": 175,
   "id": "afc6e32b",
   "metadata": {},
   "outputs": [],
   "source": [
    "b=roomates.pop(2)"
   ]
  },
  {
   "cell_type": "code",
   "execution_count": 177,
   "id": "017c3ba8",
   "metadata": {},
   "outputs": [
    {
     "name": "stdout",
     "output_type": "stream",
     "text": [
      "['satya', 'naidu', 'suresh', 'sai', 'nagu']\n"
     ]
    }
   ],
   "source": [
    "print(roomates)"
   ]
  },
  {
   "cell_type": "code",
   "execution_count": 185,
   "id": "c059e9fc",
   "metadata": {},
   "outputs": [
    {
     "data": {
      "text/plain": [
       "list"
      ]
     },
     "execution_count": 185,
     "metadata": {},
     "output_type": "execute_result"
    }
   ],
   "source": [
    "type(roomates)\n"
   ]
  },
  {
   "cell_type": "code",
   "execution_count": 188,
   "id": "e29a00f1",
   "metadata": {},
   "outputs": [
    {
     "name": "stdout",
     "output_type": "stream",
     "text": [
      "SURESH\n"
     ]
    }
   ],
   "source": [
    "print(roomates[2].upper())"
   ]
  },
  {
   "cell_type": "code",
   "execution_count": 190,
   "id": "d5622a19",
   "metadata": {},
   "outputs": [
    {
     "name": "stdout",
     "output_type": "stream",
     "text": [
      "SATYA\n"
     ]
    }
   ],
   "source": [
    "print(roomates[0].upper())"
   ]
  },
  {
   "cell_type": "code",
   "execution_count": null,
   "id": "ff8571df",
   "metadata": {},
   "outputs": [],
   "source": []
  },
  {
   "cell_type": "code",
   "execution_count": null,
   "id": "1a5c977e",
   "metadata": {},
   "outputs": [],
   "source": []
  },
  {
   "cell_type": "code",
   "execution_count": null,
   "id": "ade6eeb2",
   "metadata": {},
   "outputs": [],
   "source": []
  },
  {
   "cell_type": "code",
   "execution_count": null,
   "id": "4f38eb04",
   "metadata": {},
   "outputs": [],
   "source": []
  },
  {
   "cell_type": "code",
   "execution_count": null,
   "id": "db3a4bee",
   "metadata": {},
   "outputs": [],
   "source": []
  },
  {
   "cell_type": "markdown",
   "id": "323be583",
   "metadata": {},
   "source": []
  },
  {
   "cell_type": "code",
   "execution_count": null,
   "id": "7493e7d5",
   "metadata": {},
   "outputs": [],
   "source": []
  },
  {
   "cell_type": "code",
   "execution_count": null,
   "id": "ad830f39",
   "metadata": {},
   "outputs": [],
   "source": []
  },
  {
   "cell_type": "code",
   "execution_count": null,
   "id": "9c4ebde4",
   "metadata": {},
   "outputs": [],
   "source": []
  },
  {
   "cell_type": "code",
   "execution_count": null,
   "id": "8dc48000",
   "metadata": {},
   "outputs": [],
   "source": []
  },
  {
   "cell_type": "code",
   "execution_count": null,
   "id": "309be629",
   "metadata": {},
   "outputs": [],
   "source": []
  },
  {
   "cell_type": "code",
   "execution_count": null,
   "id": "d04f725c",
   "metadata": {},
   "outputs": [],
   "source": []
  },
  {
   "cell_type": "code",
   "execution_count": null,
   "id": "3a2ae856",
   "metadata": {},
   "outputs": [],
   "source": []
  }
 ],
 "metadata": {
  "kernelspec": {
   "display_name": "Python 3",
   "language": "python",
   "name": "python3"
  },
  "language_info": {
   "codemirror_mode": {
    "name": "ipython",
    "version": 3
   },
   "file_extension": ".py",
   "mimetype": "text/x-python",
   "name": "python",
   "nbconvert_exporter": "python",
   "pygments_lexer": "ipython3",
   "version": "3.8.8"
  }
 },
 "nbformat": 4,
 "nbformat_minor": 5
}
